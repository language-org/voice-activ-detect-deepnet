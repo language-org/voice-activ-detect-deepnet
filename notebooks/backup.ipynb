{
 "cells": [
  {
   "cell_type": "markdown",
   "id": "9057b4bb",
   "metadata": {},
   "source": [
    "# VAD"
   ]
  },
  {
   "cell_type": "markdown",
   "id": "69319693",
   "metadata": {},
   "source": [
    "## Setup"
   ]
  },
  {
   "cell_type": "code",
   "execution_count": 46,
   "id": "b02f4db7",
   "metadata": {},
   "outputs": [
    {
     "name": "stdout",
     "output_type": "stream",
     "text": [
      "2021-08-30 20:43:01,385 - root - INFO - Registered hooks from 2 installed plugin(s): kedro-mlflow-0.7.4\n",
      "2021-08-30 20:43:01,582 - kedro.framework.session.store - INFO - `read()` not implemented for `BaseSessionStore`. Assuming empty store.\n",
      "2021-08-30 20:43:01,601 - kedro.framework.session.session - WARNING - Unable to git describe /Users/steeve_laquitaine/Desktop/vad_ghost\n",
      "2021-08-30 20:43:01,626 - root - INFO - ** Kedro project vad\n",
      "2021-08-30 20:43:01,627 - root - INFO - Defined global variable `context`, `session` and `catalog`\n",
      "2021-08-30 20:43:01,648 - root - INFO - Registered line magic `run_viz`\n"
     ]
    }
   ],
   "source": [
    "%reload_kedro "
   ]
  },
  {
   "cell_type": "code",
   "execution_count": 47,
   "id": "e959f12c",
   "metadata": {},
   "outputs": [],
   "source": [
    "# Move to project path\n",
    "import os\n",
    "os.chdir(context.project_path)"
   ]
  },
  {
   "cell_type": "code",
   "execution_count": 48,
   "id": "cb8a8111",
   "metadata": {},
   "outputs": [
    {
     "name": "stderr",
     "output_type": "stream",
     "text": [
      "/Users/steeve_laquitaine/Desktop/vad_ghost/src/vad/pipelines/data_eng/nodes.py:14: YAMLLoadWarning: calling yaml.load() without Loader=... is deprecated, as the default Loader is unsafe. Please read https://msg.pyyaml.org/load for full details.\n",
      "  config = yaml.load(conf)\n"
     ]
    }
   ],
   "source": [
    "# import dependencies\n",
    "from pathlib import Path\n",
    "import os\n",
    "from kedro.config import ConfigLoader\n",
    "from kedro.framework.session import KedroSession\n",
    "from vad.pipelines.data_eng.nodes import Etl\n",
    "from vad.pipelines.viz.nodes import Viz"
   ]
  },
  {
   "cell_type": "code",
   "execution_count": 49,
   "id": "84d7a2d2",
   "metadata": {},
   "outputs": [
    {
     "name": "stdout",
     "output_type": "stream",
     "text": [
      "2021-08-30 20:43:01,882 - kedro.framework.session.store - INFO - `read()` not implemented for `BaseSessionStore`. Assuming empty store.\n",
      "2021-08-30 20:43:01,897 - kedro.framework.session.session - WARNING - Unable to git describe /Users/steeve_laquitaine/Desktop/vad_ghost\n",
      "2021-08-30 20:43:01,915 - kedro.config.config - INFO - Config from path `/Users/steeve_laquitaine/Desktop/vad_ghost/conf/train` will override the following existing top-level config keys: disable_existing_loggers, formatters, handlers, loggers, root, version\n"
     ]
    }
   ],
   "source": [
    "session = KedroSession.create(\"vad\", context.project_path, env=\"train\")"
   ]
  },
  {
   "cell_type": "code",
   "execution_count": 50,
   "id": "d60a30b3",
   "metadata": {},
   "outputs": [
    {
     "name": "stdout",
     "output_type": "stream",
     "text": [
      "2021-08-30 20:43:01,929 - root - INFO - ** Kedro project vad_ghost\n",
      "2021-08-30 20:43:02,020 - kedro.versioning.journal - WARNING - Unable to git describe /Users/steeve_laquitaine/Desktop/vad_ghost\n",
      "2021-08-30 20:43:02,049 - kedro.pipeline.node - INFO - Running node: read_audio: read_X(None) -> [audio]\n",
      "2021-08-30 20:43:02,057 - kedro.io.data_catalog - INFO - Saving data to `audio` (MemoryDataSet)...\n",
      "2021-08-30 20:43:02,060 - kedro.runner.sequential_runner - INFO - Completed 1 out of 3 tasks\n",
      "2021-08-30 20:43:02,061 - kedro.io.data_catalog - INFO - Loading data from `params:DATA_ENG` (MemoryDataSet)...\n",
      "2021-08-30 20:43:02,070 - kedro.pipeline.node - INFO - Running node: load_label: load_Y([params:DATA_ENG]) -> [label]\n",
      "2021-08-30 20:43:02,085 - kedro.io.data_catalog - INFO - Saving data to `label` (MemoryDataSet)...\n",
      "2021-08-30 20:43:02,087 - kedro.runner.sequential_runner - INFO - Completed 2 out of 3 tasks\n",
      "2021-08-30 20:43:02,092 - kedro.io.data_catalog - INFO - Loading data from `audio` (MemoryDataSet)...\n",
      "2021-08-30 20:43:02,095 - kedro.io.data_catalog - INFO - Loading data from `label` (MemoryDataSet)...\n",
      "2021-08-30 20:43:02,100 - kedro.pipeline.node - INFO - Running node: sync_audio_and_label: sync_audio_and_labels([audio,label]) -> [synced]\n"
     ]
    },
    {
     "name": "stderr",
     "output_type": "stream",
     "text": [
      "/Users/steeve_laquitaine/Desktop/vad_ghost/src/vad/pipelines/train/nodes.py:19: YAMLLoadWarning: calling yaml.load() without Loader=... is deprecated, as the default Loader is unsafe. Please read https://msg.pyyaml.org/load for full details.\n",
      "  config = yaml.load(conf)\n",
      "/Applications/anaconda3/envs/test/lib/python3.6/site-packages/kedro/framework/context/context.py:497: UserWarning: Credentials not found in your Kedro project config.\n",
      "No files found in ['/Users/steeve_laquitaine/Desktop/vad_ghost/conf/base', '/Users/steeve_laquitaine/Desktop/vad_ghost/conf/train'] matching the glob pattern(s): ['credentials*', 'credentials*/**', '**/credentials*']\n",
      "  warn(f\"Credentials not found in your Kedro project config.\\n{str(exc)}\")\n"
     ]
    },
    {
     "name": "stdout",
     "output_type": "stream",
     "text": [
      "2021-08-30 20:43:02,137 - kedro.io.data_catalog - INFO - Saving data to `synced` (MemoryDataSet)...\n",
      "2021-08-30 20:43:02,142 - kedro.runner.sequential_runner - INFO - Completed 3 out of 3 tasks\n",
      "2021-08-30 20:43:02,144 - kedro.runner.sequential_runner - INFO - Pipeline execution completed successfully.\n",
      "2021-08-30 20:43:02,146 - kedro.io.data_catalog - INFO - Loading data from `synced` (MemoryDataSet)...\n"
     ]
    }
   ],
   "source": [
    "# create session and train\n",
    "out = session.run(pipeline_name=\"data_eng\", to_nodes=[\"sync_audio_and_label\"])"
   ]
  },
  {
   "cell_type": "code",
   "execution_count": 51,
   "id": "d5d2f5dc",
   "metadata": {},
   "outputs": [],
   "source": [
    "# get audio and labels\n",
    "timestamp = out[\"synced\"][\"audio\"][\"metadata\"][\"timestamp\"]\n",
    "audio = out[\"synced\"][\"audio\"][\"data\"]\n",
    "labels = out[\"synced\"][\"label\"]"
   ]
  },
  {
   "cell_type": "code",
   "execution_count": 52,
   "id": "f8c535ab",
   "metadata": {},
   "outputs": [
    {
     "data": {
      "image/png": "[encoded data removed]",
      "text/plain": [
       "<Figure size 432x288 with 2 Axes>"
      ]
     },
     "metadata": {
      "needs_background": "light"
     },
     "output_type": "display_data"
    }
   ],
   "source": [
    "Viz.plot_labelled_audio(timestamp, audio, labels, n_sample=len(audio))"
   ]
  }
 ],
 "metadata": {
  "kernelspec": {
   "display_name": "vad",
   "language": "python",
   "name": "python3"
  },
  "language_info": {
   "codemirror_mode": {
    "name": "ipython",
    "version": 3
   },
   "file_extension": ".py",
   "mimetype": "text/x-python",
   "name": "python",
   "nbconvert_exporter": "python",
   "pygments_lexer": "ipython3",
   "version": "3.6.13"
  },
  "toc": {
   "base_numbering": 1,
   "nav_menu": {},
   "number_sections": true,
   "sideBar": true,
   "skip_h1_title": false,
   "title_cell": "Table of Contents",
   "title_sidebar": "Contents",
   "toc_cell": false,
   "toc_position": {},
   "toc_section_display": true,
   "toc_window_display": false
  },
  "varInspector": {
   "cols": {
    "lenName": 16,
    "lenType": 16,
    "lenVar": 40
   },
   "kernels_config": {
    "python": {
     "delete_cmd_postfix": "",
     "delete_cmd_prefix": "del ",
     "library": "var_list.py",
     "varRefreshCmd": "print(var_dic_list())"
    },
    "r": {
     "delete_cmd_postfix": ") ",
     "delete_cmd_prefix": "rm(",
     "library": "var_list.r",
     "varRefreshCmd": "cat(var_dic_list()) "
    }
   },
   "types_to_exclude": [
    "module",
    "function",
    "builtin_function_or_method",
    "instance",
    "_Feature"
   ],
   "window_display": false
  }
 },
 "nbformat": 4,
 "nbformat_minor": 5
}
